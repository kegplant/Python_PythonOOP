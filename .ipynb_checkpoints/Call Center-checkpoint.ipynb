{
 "cells": [
  {
   "cell_type": "code",
   "execution_count": 60,
   "metadata": {
    "collapsed": false
   },
   "outputs": [],
   "source": [
    "class Call(object):\n",
    "    def __init__(self,id,name,number,time,reason):\n",
    "        self.id=id\n",
    "        self.name=name\n",
    "        self.number=number\n",
    "        self.time=time\n",
    "        self.reason=reason\n",
    "    def display(self):\n",
    "        print \"Name: \",self.name\n",
    "        for key,val in self.__dict__.items():\n",
    "            if key != 'name':\n",
    "                print key+':',val\n",
    "        return self\n",
    "class CallCenter(object):\n",
    "    def __init__(self):\n",
    "        self.calls=[]\n",
    "        self.queueSize=len(self.calls)\n",
    "    def add(self,call):\n",
    "        self.calls.append(call)\n",
    "        self.queueSize += 1\n",
    "        return self\n",
    "    def remove(self):\n",
    "        self.calls.pop(0)\n",
    "        self.queueSize -= 1\n",
    "        return self\n",
    "    def info(self):\n",
    "        for call in self.calls:\n",
    "            print call.name, call.number\n",
    "        print self.queueSize\n",
    "        return self\n",
    "    def removeByNum(self,number): #Ninja challenge\n",
    "        for ind,call in enumerate(self.calls):\n",
    "            if call.number==number:\n",
    "                self.calls.pop(ind)\n",
    "                self.queueSize -= 1\n",
    "        return self\n",
    "    def sortByTime(self):\n",
    "        #simple sort (insertion sort?) by number, or:\n",
    "        #make an array of call times\n",
    "        #sort that array\n",
    "        #make a new calls array, append by appearance in above sorted array\n",
    "        return self\n",
    "    \n",
    "        "
   ]
  },
  {
   "cell_type": "code",
   "execution_count": 61,
   "metadata": {
    "collapsed": false
   },
   "outputs": [],
   "source": [
    "call1=Call(1,\"Song\",1234567,\"1:23\",\"fun\")\n",
    "call2=Call(2,\"Dom\",123456798,\"2:23\",\"business\")\n",
    "#call1.display()"
   ]
  },
  {
   "cell_type": "code",
   "execution_count": 63,
   "metadata": {
    "collapsed": false
   },
   "outputs": [
    {
     "name": "stdout",
     "output_type": "stream",
     "text": [
      "Song 1234567\n",
      "Dom 123456798\n",
      "2\n",
      "Dom 123456798\n",
      "1\n"
     ]
    },
    {
     "data": {
      "text/plain": [
       "<__main__.CallCenter at 0x10eac7f10>"
      ]
     },
     "execution_count": 63,
     "metadata": {},
     "output_type": "execute_result"
    }
   ],
   "source": [
    "cc=CallCenter()\n",
    "cc.add(call1).add(call2)\n",
    "#print len(cc.calls)\n",
    "cc.info()\n",
    "cc.removeByNum(1234567).info()"
   ]
  },
  {
   "cell_type": "code",
   "execution_count": null,
   "metadata": {
    "collapsed": true
   },
   "outputs": [],
   "source": []
  }
 ],
 "metadata": {
  "kernelspec": {
   "display_name": "Python 2",
   "language": "python",
   "name": "python2"
  },
  "language_info": {
   "codemirror_mode": {
    "name": "ipython",
    "version": 2
   },
   "file_extension": ".py",
   "mimetype": "text/x-python",
   "name": "python",
   "nbconvert_exporter": "python",
   "pygments_lexer": "ipython2",
   "version": "2.7.13"
  }
 },
 "nbformat": 4,
 "nbformat_minor": 0
}
