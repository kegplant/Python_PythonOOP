{
 "cells": [
  {
   "cell_type": "code",
   "execution_count": 2,
   "metadata": {
    "collapsed": false
   },
   "outputs": [],
   "source": [
    "class Bike(object):\n",
    "    miles=0\n",
    "    def __init__(self,price,max_speed):\n",
    "        self.price=price\n",
    "        self.max_speed=max_speed\n",
    "    def displayInfo(self):\n",
    "        print \"miles travelled: {}\".format(self.miles)\n",
    "        print \"price: {}\".format(self.max_speed)\n",
    "        print \"max speed: {}\".format(self.max_speed)\n",
    "    def ride():\n",
    "        pass\n",
    "    def reverse():\n",
    "        pass\n",
    "        \n",
    "           "
   ]
  },
  {
   "cell_type": "code",
   "execution_count": 3,
   "metadata": {
    "collapsed": true
   },
   "outputs": [],
   "source": [
    "mike=Bike(10000,120)"
   ]
  },
  {
   "cell_type": "code",
   "execution_count": 4,
   "metadata": {
    "collapsed": false
   },
   "outputs": [
    {
     "name": "stdout",
     "output_type": "stream",
     "text": [
      "miles travelled: 0\n",
      "price: 120\n",
      "max speed: 120\n"
     ]
    }
   ],
   "source": [
    "mike.displayInfo()"
   ]
  },
  {
   "cell_type": "code",
   "execution_count": null,
   "metadata": {
    "collapsed": true
   },
   "outputs": [],
   "source": []
  }
 ],
 "metadata": {
  "kernelspec": {
   "display_name": "Python 2",
   "language": "python",
   "name": "python2"
  },
  "language_info": {
   "codemirror_mode": {
    "name": "ipython",
    "version": 2
   },
   "file_extension": ".py",
   "mimetype": "text/x-python",
   "name": "python",
   "nbconvert_exporter": "python",
   "pygments_lexer": "ipython2",
   "version": "2.7.13"
  }
 },
 "nbformat": 4,
 "nbformat_minor": 0
}
