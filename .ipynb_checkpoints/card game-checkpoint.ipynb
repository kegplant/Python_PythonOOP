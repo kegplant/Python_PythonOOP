{
 "cells": [
  {
   "cell_type": "code",
   "execution_count": 18,
   "metadata": {
    "collapsed": false
   },
   "outputs": [],
   "source": [
    "#need to finish 2 \"unfinished\" methods and implement loop in main \n",
    "import random\n",
    "def swap(i,j,arr):\n",
    "    temp=arr[i]\n",
    "    arr[i]=arr[j]\n",
    "    arr[j]=temp\n",
    "class Deck(object):\n",
    "    def __init__(self):\n",
    "        self.cards=[]\n",
    "        for i in range(1,14):\n",
    "            for j in range(4):\n",
    "                self.cards.append(Card(j,i))\n",
    "    def deal(self,number):\n",
    "        output=[]\n",
    "        for i in range(number):\n",
    "            output.append(self.cards.pop())\n",
    "        return output\n",
    "    def shuffle(self):\n",
    "        for i in range(len(self.cards)):\n",
    "            swap(i,random.randint(0,len(self.cards)-1),self.cards)\n",
    "        return self\n",
    "    def display(self):\n",
    "        for card in self.cards:\n",
    "            print \"value: \",card.value\n",
    "            print \"Suit: \",card.suit\n",
    "class Card(object):\n",
    "    def __init__(self,suit,value):\n",
    "        self.suit=suit\n",
    "        self.value=value\n",
    "    def check(self):#integrate this\n",
    "        print \"Suit:\", self.suit\n",
    "        print \"Value:\", self.value\n",
    "class Player(object):\n",
    "    def __init__(self,name):\n",
    "        self.name=name\n",
    "        self.cardHand=[]\n",
    "        self.score=0\n",
    "    def draw(self,cards):\n",
    "        if type(cards) == type([a,b]):\n",
    "            self.cardHand+=cards\n",
    "        else:\n",
    "            self.append(cards)\n",
    "        return self\n",
    "    def ask(self,card):\n",
    "        return card#could check it exists\n",
    "    def give(self,card):#unfinished\n",
    "        self.cardHand.pop(self.cardHand.index(card))\n",
    "        #works so long as keeps track of card by the object's memory location\n",
    "        #should be check by value, not by object\n",
    "        return card\n",
    "    def play(self,card):\n",
    "        self.give(card)\n",
    "        self.give(card)\n",
    "        self.score += 1\n",
    "        return self\n",
    "    def removeDup(self):#unfinished\n",
    "        #removes dupes and add score\n",
    "#         j=1\n",
    "#         for i in range(1,5):\n",
    "#             if self.cardHand[i] not in self.cardHand:\n",
    "#                 swap(i,j,self.cardHand)\n",
    "#                 j++\n",
    "        while j<len(self.cardHand):\n",
    "            continue\n",
    "        return self\n",
    "#game: get pairs\n",
    "def main():\n",
    "    #simulate player action in main for now\n",
    "    deck=Deck()\n",
    "    players=[Player(\"Joe\"),Player(\"Song\")]\n",
    "    deck.shuffle()\n",
    "    for player in players:\n",
    "        cards=deck.deal(5)#should be an array of cards\n",
    "        player.draw(cards)#update player hand\n",
    "    #while True:#add condition later: player hands empty\n",
    "    target=players[0].ask(card)   \n",
    "    if target in players[1].cardHand:    \n",
    "        players[0].draw(players[1].give(target))\n",
    "        players[0].play(target)#could check\n",
    "    else:     \n",
    "        players[0].draw(deck.deal(1))\n",
    "    #decide who wins    \n",
    "        "
   ]
  },
  {
   "cell_type": "code",
   "execution_count": 19,
   "metadata": {
    "collapsed": false
   },
   "outputs": [
    {
     "name": "stdout",
     "output_type": "stream",
     "text": [
      "value:  3\n",
      "Suit:  0\n",
      "value:  2\n",
      "Suit:  1\n",
      "value:  9\n",
      "Suit:  2\n",
      "value:  6\n",
      "Suit:  3\n",
      "value:  3\n",
      "Suit:  2\n",
      "value:  8\n",
      "Suit:  1\n",
      "value:  8\n",
      "Suit:  2\n",
      "value:  8\n",
      "Suit:  0\n",
      "value:  4\n",
      "Suit:  1\n",
      "value:  2\n",
      "Suit:  2\n",
      "value:  1\n",
      "Suit:  0\n",
      "value:  12\n",
      "Suit:  2\n",
      "value:  1\n",
      "Suit:  2\n",
      "value:  7\n",
      "Suit:  1\n",
      "value:  10\n",
      "Suit:  2\n",
      "value:  13\n",
      "Suit:  1\n",
      "value:  2\n",
      "Suit:  0\n",
      "value:  5\n",
      "Suit:  0\n",
      "value:  11\n",
      "Suit:  0\n",
      "value:  6\n",
      "Suit:  2\n",
      "value:  1\n",
      "Suit:  1\n",
      "value:  3\n",
      "Suit:  1\n",
      "value:  13\n",
      "Suit:  2\n",
      "value:  12\n",
      "Suit:  3\n",
      "value:  4\n",
      "Suit:  0\n",
      "value:  9\n",
      "Suit:  1\n",
      "value:  12\n",
      "Suit:  0\n",
      "value:  7\n",
      "Suit:  0\n",
      "value:  3\n",
      "Suit:  3\n",
      "value:  5\n",
      "Suit:  2\n",
      "value:  9\n",
      "Suit:  0\n",
      "value:  12\n",
      "Suit:  1\n",
      "value:  4\n",
      "Suit:  2\n",
      "value:  10\n",
      "Suit:  1\n",
      "value:  9\n",
      "Suit:  3\n",
      "value:  13\n",
      "Suit:  3\n",
      "value:  6\n",
      "Suit:  1\n",
      "value:  8\n",
      "Suit:  3\n",
      "value:  13\n",
      "Suit:  0\n",
      "value:  4\n",
      "Suit:  3\n",
      "value:  2\n",
      "Suit:  3\n",
      "value:  6\n",
      "Suit:  0\n",
      "value:  10\n",
      "Suit:  3\n",
      "value:  10\n",
      "Suit:  0\n",
      "value:  1\n",
      "Suit:  3\n",
      "value:  5\n",
      "Suit:  1\n",
      "value:  5\n",
      "Suit:  3\n",
      "value:  11\n",
      "Suit:  2\n",
      "value:  7\n",
      "Suit:  2\n",
      "value:  7\n",
      "Suit:  3\n",
      "value:  11\n",
      "Suit:  3\n",
      "value:  11\n",
      "Suit:  1\n"
     ]
    }
   ],
   "source": [
    "deck=Deck()\n",
    "deck.shuffle().display()"
   ]
  },
  {
   "cell_type": "code",
   "execution_count": 20,
   "metadata": {
    "collapsed": false
   },
   "outputs": [
    {
     "data": {
      "text/plain": [
       "52"
      ]
     },
     "execution_count": 20,
     "metadata": {},
     "output_type": "execute_result"
    }
   ],
   "source": [
    "len(deck.cards)"
   ]
  },
  {
   "cell_type": "code",
   "execution_count": 25,
   "metadata": {
    "collapsed": false
   },
   "outputs": [
    {
     "data": {
      "text/plain": [
       "28"
      ]
     },
     "execution_count": 25,
     "metadata": {},
     "output_type": "execute_result"
    }
   ],
   "source": [
    "deck.cards.index(deck.cards[28])"
   ]
  },
  {
   "cell_type": "code",
   "execution_count": null,
   "metadata": {
    "collapsed": true
   },
   "outputs": [],
   "source": []
  }
 ],
 "metadata": {
  "kernelspec": {
   "display_name": "Python 2",
   "language": "python",
   "name": "python2"
  },
  "language_info": {
   "codemirror_mode": {
    "name": "ipython",
    "version": 2
   },
   "file_extension": ".py",
   "mimetype": "text/x-python",
   "name": "python",
   "nbconvert_exporter": "python",
   "pygments_lexer": "ipython2",
   "version": "2.7.13"
  }
 },
 "nbformat": 4,
 "nbformat_minor": 0
}
