{
 "cells": [
  {
   "cell_type": "code",
   "execution_count": 9,
   "metadata": {
    "collapsed": true
   },
   "outputs": [],
   "source": [
    "class Animal(object):\n",
    "    health=100\n",
    "    def __init__(self,name):\n",
    "        self.name=name\n",
    "    def walk(self):\n",
    "        self.health -= 1\n",
    "        return self\n",
    "    def run(self):\n",
    "        self.health -= 5\n",
    "    def displayHealth(self):\n",
    "        print \"{}'s health is: {}\".format(self.name,self.health)\n",
    "class Dog(Animal):\n",
    "    def __init__(self,name):\n",
    "        super(Dog,self).__init__(name)\n",
    "        health=150\n",
    "    def pet(self):\n",
    "        self.health += 5\n",
    "class Dragon(Animal):\n",
    "    def __init__(self, name):\n",
    "        super(Dragon,self).__init__(name)\n",
    "        self.health=170\n",
    "    def fly(self):\n",
    "        self.health -= 10\n",
    "    def displayHealth(self):\n",
    "        super(Dragon,self).displayHealth()\n",
    "        print \"I am a Dragon\"\n",
    "        "
   ]
  },
  {
   "cell_type": "code",
   "execution_count": 10,
   "metadata": {
    "collapsed": false
   },
   "outputs": [
    {
     "name": "stdout",
     "output_type": "stream",
     "text": [
      "Happy's health is: 92\n"
     ]
    },
    {
     "ename": "AttributeError",
     "evalue": "'Animal' object has no attribute 'pet'",
     "output_type": "error",
     "traceback": [
      "\u001b[0;31m---------------------------------------------------------------------------\u001b[0m",
      "\u001b[0;31mAttributeError\u001b[0m                            Traceback (most recent call last)",
      "\u001b[0;32m<ipython-input-10-fa77a012ca3e>\u001b[0m in \u001b[0;36m<module>\u001b[0;34m()\u001b[0m\n\u001b[1;32m      8\u001b[0m \u001b[0mdog\u001b[0m\u001b[0;34m.\u001b[0m\u001b[0mpet\u001b[0m\u001b[0;34m(\u001b[0m\u001b[0;34m)\u001b[0m\u001b[0;34m\u001b[0m\u001b[0m\n\u001b[1;32m      9\u001b[0m \u001b[0mdog\u001b[0m\u001b[0;34m.\u001b[0m\u001b[0mdisplayHealth\u001b[0m\u001b[0;34m(\u001b[0m\u001b[0;34m)\u001b[0m\u001b[0;34m\u001b[0m\u001b[0m\n\u001b[0;32m---> 10\u001b[0;31m \u001b[0mpony\u001b[0m\u001b[0;34m.\u001b[0m\u001b[0mpet\u001b[0m\u001b[0;34m(\u001b[0m\u001b[0;34m)\u001b[0m\u001b[0;34m\u001b[0m\u001b[0m\n\u001b[0m",
      "\u001b[0;31mAttributeError\u001b[0m: 'Animal' object has no attribute 'pet'"
     ]
    }
   ],
   "source": [
    "pony=Animal(\"MLP\")\n",
    "dog=Dog(\"Happy\")\n",
    "dragon=Dragon(\"Tooth\")\n",
    "for i in range(3):\n",
    "    dog.walk()\n",
    "for i in range(2):\n",
    "    dog.run()\n",
    "dog.pet()\n",
    "dog.displayHealth()\n",
    "pony.pet()"
   ]
  },
  {
   "cell_type": "code",
   "execution_count": null,
   "metadata": {
    "collapsed": true
   },
   "outputs": [],
   "source": []
  }
 ],
 "metadata": {
  "kernelspec": {
   "display_name": "Python 2",
   "language": "python",
   "name": "python2"
  },
  "language_info": {
   "codemirror_mode": {
    "name": "ipython",
    "version": 2
   },
   "file_extension": ".py",
   "mimetype": "text/x-python",
   "name": "python",
   "nbconvert_exporter": "python",
   "pygments_lexer": "ipython2",
   "version": "2.7.13"
  }
 },
 "nbformat": 4,
 "nbformat_minor": 0
}
