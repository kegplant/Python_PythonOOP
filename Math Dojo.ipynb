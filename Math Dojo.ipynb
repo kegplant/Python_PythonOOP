{
 "cells": [
  {
   "cell_type": "code",
   "execution_count": 28,
   "metadata": {
    "collapsed": true
   },
   "outputs": [],
   "source": [
    "class MathDojo(object):\n",
    "    def __init__(self):\n",
    "        self.result=0\n",
    "    def add(self,*args):\n",
    "        #self.result += reduce(lambda x,y: x+y,args)#or add self.result to args, and reduce w/ callback: + or - etc\n",
    "        for i in args:\n",
    "            if type(i)==type(3):\n",
    "                self.result += i;\n",
    "            elif type(i)==type([2,3]) or type(i)==type((2,3)):\n",
    "                self.result += reduce(lambda x,y: x+y,i)\n",
    "        return self\n",
    "    def subtract(self, *args):\n",
    "        for i in args:\n",
    "            if type(i)==type(3):\n",
    "                self.result -= i;\n",
    "            elif type(i)==type([2,3]) or type(i)==type((2,3)):\n",
    "                self.result -= reduce(lambda x,y: x+y,i)\n",
    "        return self\n",
    "        "
   ]
  },
  {
   "cell_type": "code",
   "execution_count": 29,
   "metadata": {
    "collapsed": false
   },
   "outputs": [
    {
     "data": {
      "text/plain": [
       "16"
      ]
     },
     "execution_count": 29,
     "metadata": {},
     "output_type": "execute_result"
    }
   ],
   "source": [
    "md=MathDojo()\n",
    "md.add(2).add(2,(5,3,4)).result\n",
    "md.result"
   ]
  },
  {
   "cell_type": "code",
   "execution_count": null,
   "metadata": {
    "collapsed": true
   },
   "outputs": [],
   "source": []
  }
 ],
 "metadata": {
  "kernelspec": {
   "display_name": "Python 2",
   "language": "python",
   "name": "python2"
  },
  "language_info": {
   "codemirror_mode": {
    "name": "ipython",
    "version": 2
   },
   "file_extension": ".py",
   "mimetype": "text/x-python",
   "name": "python",
   "nbconvert_exporter": "python",
   "pygments_lexer": "ipython2",
   "version": "2.7.13"
  }
 },
 "nbformat": 4,
 "nbformat_minor": 0
}
