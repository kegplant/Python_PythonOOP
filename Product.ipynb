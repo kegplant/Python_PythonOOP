{
 "cells": [
  {
   "cell_type": "code",
   "execution_count": 14,
   "metadata": {
    "collapsed": false
   },
   "outputs": [],
   "source": [
    "class Product(object):\n",
    "    def __init__(self,name, price,weight,brand):\n",
    "        self.status=\"for sale\"\n",
    "        self.name=name\n",
    "        self.price=price\n",
    "        self.weight=weight\n",
    "        self.brand=brand\n",
    "    def sell(self):\n",
    "        self.status=\"sold\"\n",
    "        return self\n",
    "    def addTax(self,tax):\n",
    "        return self.price*(1+tax)\n",
    "    def returnProd(self,reason):\n",
    "        if reason == \"defective\":\n",
    "            self.price = 0\n",
    "        elif reason == \"like new\":\n",
    "            self.status = \"for sale\"\n",
    "        elif reason == \"used\":\n",
    "            self.status = \"used\"\n",
    "            self.price *= 0.8\n",
    "        return self\n",
    "    def displayInfo(self):\n",
    "        for key,value in self.__dict__.items():\n",
    "            print key, value\n",
    "        return self\n",
    "    \n",
    "    \n",
    "        "
   ]
  },
  {
   "cell_type": "code",
   "execution_count": 15,
   "metadata": {
    "collapsed": false
   },
   "outputs": [
    {
     "name": "stdout",
     "output_type": "stream",
     "text": [
      "status used\n",
      "price 0.12\n",
      "brand TJ\n",
      "name banana\n",
      "weight 3\n"
     ]
    },
    {
     "data": {
      "text/plain": [
       "<__main__.Product at 0x10ecd6e10>"
      ]
     },
     "execution_count": 15,
     "metadata": {},
     "output_type": "execute_result"
    }
   ],
   "source": [
    "banana=Product(\"banana\",.15,3,\"TJ\")\n",
    "banana.addTax(.1)\n",
    "banana.returnProd(\"used\")\n",
    "banana.displayInfo()"
   ]
  },
  {
   "cell_type": "code",
   "execution_count": 12,
   "metadata": {
    "collapsed": false
   },
   "outputs": [
    {
     "data": {
      "text/plain": [
       "0.12"
      ]
     },
     "execution_count": 12,
     "metadata": {},
     "output_type": "execute_result"
    }
   ],
   "source": [
    "banana.price"
   ]
  },
  {
   "cell_type": "code",
   "execution_count": null,
   "metadata": {
    "collapsed": true
   },
   "outputs": [],
   "source": []
  },
  {
   "cell_type": "code",
   "execution_count": null,
   "metadata": {
    "collapsed": true
   },
   "outputs": [],
   "source": []
  },
  {
   "cell_type": "code",
   "execution_count": null,
   "metadata": {
    "collapsed": true
   },
   "outputs": [],
   "source": []
  },
  {
   "cell_type": "code",
   "execution_count": null,
   "metadata": {
    "collapsed": true
   },
   "outputs": [],
   "source": []
  }
 ],
 "metadata": {
  "kernelspec": {
   "display_name": "Python 2",
   "language": "python",
   "name": "python2"
  },
  "language_info": {
   "codemirror_mode": {
    "name": "ipython",
    "version": 2
   },
   "file_extension": ".py",
   "mimetype": "text/x-python",
   "name": "python",
   "nbconvert_exporter": "python",
   "pygments_lexer": "ipython2",
   "version": "2.7.13"
  }
 },
 "nbformat": 4,
 "nbformat_minor": 0
}
