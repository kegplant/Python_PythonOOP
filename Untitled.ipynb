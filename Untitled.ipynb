{
 "cells": [
  {
   "cell_type": "code",
   "execution_count": null,
   "metadata": {
    "collapsed": true
   },
   "outputs": [],
   "source": [
    "    class Deck(object):\n",
    "    def init(self,value,suit):\n",
    "        self.value = value\n",
    "        self.suit = suit\n",
    "        for card in range(1,14):\n",
    "            cardstr = \"\"\n",
    "            for suit in range(1,5):\n",
    "                cardstr += str(card)\n",
    "                if suit == 1:\n",
    "                    suit = \"Spade\"\n",
    "                elif suit == 2:\n",
    "                    suit = \"Heart\"\n",
    "                elif suit == 3:\n",
    "                    suit = \"Diamond\"\n",
    "                elif suit == 4:\n",
    "                    suit = \"Club\"\n",
    "            cardstr += suit"
   ]
  }
 ],
 "metadata": {
  "kernelspec": {
   "display_name": "Python 2",
   "language": "python",
   "name": "python2"
  },
  "language_info": {
   "codemirror_mode": {
    "name": "ipython",
    "version": 2
   },
   "file_extension": ".py",
   "mimetype": "text/x-python",
   "name": "python",
   "nbconvert_exporter": "python",
   "pygments_lexer": "ipython2",
   "version": "2.7.13"
  }
 },
 "nbformat": 4,
 "nbformat_minor": 0
}
