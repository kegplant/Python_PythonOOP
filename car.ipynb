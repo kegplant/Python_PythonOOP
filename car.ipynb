{
 "cells": [
  {
   "cell_type": "code",
   "execution_count": 1,
   "metadata": {
    "collapsed": true
   },
   "outputs": [],
   "source": [
    "#price, speed, fuel, mileage. If the price is greater than 10,000, set the tax to be 15%. Otherwise, set the tax to be 12%. \n",
    "\n",
    "#Create six different instances of the class Car. In the class have a method called display_all() that returns all the information about the car as a string. In your __init__(), call this display_all() method to display information about the car once the attributes have been defined."
   ]
  },
  {
   "cell_type": "code",
   "execution_count": 39,
   "metadata": {
    "collapsed": false
   },
   "outputs": [],
   "source": [
    "class Car(object):\n",
    "    fuel=\"full\"\n",
    "    def __init__(self, price):\n",
    "        self.price=price\n",
    "        if price > 10000:\n",
    "            self.tax=\"15%\"\n",
    "        else:\n",
    "            self.tax=\"12%\"\n",
    "        self.displayAll()\n",
    "        #return self\n",
    "    \n",
    "    def displayAll(self):\n",
    "        for attr,val in self.__dict__.items():\n",
    "            print attr, val\n",
    "        print \"fuel: \",self.fuel\n",
    "        return self\n",
    "            \n",
    "            #print \"tax: \", self.tax"
   ]
  },
  {
   "cell_type": "code",
   "execution_count": 40,
   "metadata": {
    "collapsed": false
   },
   "outputs": [
    {
     "name": "stdout",
     "output_type": "stream",
     "text": [
      "price 10000\n",
      "tax 12%\n",
      "fuel:  full\n"
     ]
    }
   ],
   "source": [
    "myCar=Car(10000)"
   ]
  },
  {
   "cell_type": "code",
   "execution_count": 41,
   "metadata": {
    "collapsed": false
   },
   "outputs": [
    {
     "name": "stdout",
     "output_type": "stream",
     "text": [
      "price 10000\n",
      "tax 12%\n",
      "fuel:  full\n"
     ]
    },
    {
     "data": {
      "text/plain": [
       "<__main__.Car at 0x10c4b9590>"
      ]
     },
     "execution_count": 41,
     "metadata": {},
     "output_type": "execute_result"
    }
   ],
   "source": [
    "myCar.displayAll()"
   ]
  },
  {
   "cell_type": "code",
   "execution_count": null,
   "metadata": {
    "collapsed": true
   },
   "outputs": [],
   "source": []
  }
 ],
 "metadata": {
  "kernelspec": {
   "display_name": "Python 2",
   "language": "python",
   "name": "python2"
  },
  "language_info": {
   "codemirror_mode": {
    "name": "ipython",
    "version": 2
   },
   "file_extension": ".py",
   "mimetype": "text/x-python",
   "name": "python",
   "nbconvert_exporter": "python",
   "pygments_lexer": "ipython2",
   "version": "2.7.13"
  }
 },
 "nbformat": 4,
 "nbformat_minor": 0
}
