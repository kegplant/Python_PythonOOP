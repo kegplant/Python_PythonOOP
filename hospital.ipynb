{
 "cells": [
  {
   "cell_type": "code",
   "execution_count": 47,
   "metadata": {
    "collapsed": false
   },
   "outputs": [],
   "source": [
    "#tested, assuming the same patient doesn't admit twice, or it breaks lol\n",
    "class Patient(object):\n",
    "    def __init__(self,id,name,allergies):\n",
    "        self.id=id\n",
    "        self.name=name\n",
    "        self.allergies=allergies\n",
    "        self.bedNum=None\n",
    "class Hospital(object):\n",
    "    def __init__(self,name,capacity):\n",
    "        self.name=name\n",
    "        self.capacity=capacity\n",
    "        self.patients=[]\n",
    "        self.beds=[None]*capacity#index is bedNum, value is patientID\n",
    "    #should have a enrollPatient to create patient and assign id: implemented\n",
    "    def enrollPatient(self,name,allergies):\n",
    "        id=len(self.patients)\n",
    "        self.patients.append(Patient(id,name,allergies))\n",
    "        return self    \n",
    "    #go by id and look up patient by id in all methods: implemented\n",
    "    def admit(self,id):\n",
    "        patient=self.findPatientByID(id)\n",
    "        bedNum=self.findEmptyBed()\n",
    "        if bedNum>-1:#should encapsulate into assignBed(self,bedNum,patient) for readability???\n",
    "            patient.bedNum=bedNum\n",
    "            self.beds[bedNum]=patient.id\n",
    "            print\"admission complete\"\n",
    "        else:\n",
    "            print \"hospital is full\"\n",
    "        return bedNum\n",
    "    def findEmptyBed(self):\n",
    "        for bedNum,patientID in enumerate(self.beds):\n",
    "            if patientID is None:\n",
    "                return bedNum\n",
    "    def discharge(self,id):\n",
    "        patient=self.findPatientByID(id)\n",
    "        self.beds[patient.bedNum]=None\n",
    "        patient.bedNum=None\n",
    "        return patient\n",
    "    #helper method: look up patient ID by name, then patient by ID from database i.e. a list here\n",
    "    def findPatientByID(self,id):\n",
    "        return self.patients[id]#subject to change based onhow patients are stored in database\n",
    "\n",
    "    \n",
    "    \n",
    "    \n",
    "    \n",
    "#when in use, admit patient by id or create a patient w/ id, and then admit by id"
   ]
  },
  {
   "cell_type": "code",
   "execution_count": 48,
   "metadata": {
    "collapsed": false
   },
   "outputs": [
    {
     "data": {
      "text/plain": [
       "[None, None, None, None, None, None, None, None, None, None]"
      ]
     },
     "execution_count": 48,
     "metadata": {},
     "output_type": "execute_result"
    }
   ],
   "source": [
    "sh=Hospital('Sacred Heart',10)\n",
    "sh.beds"
   ]
  },
  {
   "cell_type": "code",
   "execution_count": 55,
   "metadata": {
    "collapsed": false
   },
   "outputs": [
    {
     "data": {
      "text/plain": [
       "<__main__.Hospital at 0x10bf421d0>"
      ]
     },
     "execution_count": 55,
     "metadata": {},
     "output_type": "execute_result"
    }
   ],
   "source": [
    "sh.enrollPatient('c',None)\n",
    "sh.enrollPatient('b',None)\n",
    "sh.enrollPatient('a',None)"
   ]
  },
  {
   "cell_type": "code",
   "execution_count": 67,
   "metadata": {
    "collapsed": false
   },
   "outputs": [
    {
     "name": "stdout",
     "output_type": "stream",
     "text": [
      "hospital is full\n"
     ]
    }
   ],
   "source": [
    "sh.admit(2)"
   ]
  },
  {
   "cell_type": "code",
   "execution_count": 70,
   "metadata": {
    "collapsed": false
   },
   "outputs": [
    {
     "data": {
      "text/plain": [
       "[1, 1, 1, 1, 1, 1, 1, 1, 2, None]"
      ]
     },
     "execution_count": 70,
     "metadata": {},
     "output_type": "execute_result"
    }
   ],
   "source": [
    "sh.beds"
   ]
  },
  {
   "cell_type": "code",
   "execution_count": 53,
   "metadata": {
    "collapsed": false
   },
   "outputs": [
    {
     "data": {
      "text/plain": [
       "[<__main__.Patient at 0x10bf42e50>,\n",
       " <__main__.Patient at 0x10be73c50>,\n",
       " <__main__.Patient at 0x10bf42e10>,\n",
       " <__main__.Patient at 0x10bf42a50>,\n",
       " <__main__.Patient at 0x10bf420d0>,\n",
       " <__main__.Patient at 0x10bf429d0>]"
      ]
     },
     "execution_count": 53,
     "metadata": {},
     "output_type": "execute_result"
    }
   ],
   "source": [
    "sh.patients"
   ]
  },
  {
   "cell_type": "code",
   "execution_count": 69,
   "metadata": {
    "collapsed": false
   },
   "outputs": [
    {
     "data": {
      "text/plain": [
       "<__main__.Patient at 0x10bf42e10>"
      ]
     },
     "execution_count": 69,
     "metadata": {},
     "output_type": "execute_result"
    }
   ],
   "source": [
    "sh.discharge(2)"
   ]
  },
  {
   "cell_type": "code",
   "execution_count": null,
   "metadata": {
    "collapsed": true
   },
   "outputs": [],
   "source": [
    "sh"
   ]
  }
 ],
 "metadata": {
  "kernelspec": {
   "display_name": "Python 2",
   "language": "python",
   "name": "python2"
  },
  "language_info": {
   "codemirror_mode": {
    "name": "ipython",
    "version": 2
   },
   "file_extension": ".py",
   "mimetype": "text/x-python",
   "name": "python",
   "nbconvert_exporter": "python",
   "pygments_lexer": "ipython2",
   "version": "2.7.13"
  }
 },
 "nbformat": 4,
 "nbformat_minor": 0
}
